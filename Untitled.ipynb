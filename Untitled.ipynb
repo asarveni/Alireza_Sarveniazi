{
 "cells": [
  {
   "cell_type": "code",
   "execution_count": 1,
   "id": "ee7b1634-9f43-44c9-a9b6-16f389f31785",
   "metadata": {},
   "outputs": [
    {
     "name": "stdout",
     "output_type": "stream",
     "text": [
      "Alle Importe erfolgreich!\n"
     ]
    }
   ],
   "source": [
    "import tropigem\n",
    "from tropigem.core import DynamicEmbedder\n",
    "import networkx as nx\n",
    "\n",
    "print(\"Alle Importe erfolgreich!\")"
   ]
  },
  {
   "cell_type": "code",
   "execution_count": 5,
   "id": "b010485a-d712-40e8-af93-7c722a0fc680",
   "metadata": {},
   "outputs": [],
   "source": [
    "class DynamicEmbedder:\n",
    "    def __init__(self, graph, param1, param2):  # Hier sehen Sie die echten Parameternamen\n",
    "        self.graph = graph\n",
    "        # ... Initialisierungscode"
   ]
  },
  {
   "cell_type": "code",
   "execution_count": 9,
   "id": "5aa9f548-5df3-4975-8550-9f55bcb0fe1a",
   "metadata": {},
   "outputs": [
    {
     "name": "stdout",
     "output_type": "stream",
     "text": [
      "Verfügbare Methoden:\n",
      "Help on DynamicEmbedder in module tropigem.core object:\n",
      "\n",
      "class DynamicEmbedder(builtins.object)\n",
      " |  DynamicEmbedder(initial_graph, embedding_dim=2)\n",
      " |\n",
      " |  Methods defined here:\n",
      " |\n",
      " |  __init__(self, initial_graph, embedding_dim=2)\n",
      " |      Initialize self.  See help(type(self)) for accurate signature.\n",
      " |\n",
      " |  ----------------------------------------------------------------------\n",
      " |  Data descriptors defined here:\n",
      " |\n",
      " |  __dict__\n",
      " |      dictionary for instance variables\n",
      " |\n",
      " |  __weakref__\n",
      " |      list of weak references to the object\n",
      "\n"
     ]
    }
   ],
   "source": [
    "from tropigem import DynamicEmbedder\n",
    "import networkx as nx\n",
    "\n",
    "G = nx.karate_club_graph()\n",
    "embedder = DynamicEmbedder(G, embedding_dim=2)\n",
    "\n",
    "# Zeigen Sie alle verfügbaren Methoden und Attribute an\n",
    "print(\"Verfügbare Methoden:\")\n",
    "for method in dir(embedder):\n",
    "    if not method.startswith('_'):  # Zeige nur öffentliche Methoden\n",
    "        print(f\"- {method}\")\n",
    "\n",
    "# Oder verwenden Sie die Hilfe-Funktion\n",
    "help(embedder)"
   ]
  },
  {
   "cell_type": "code",
   "execution_count": 10,
   "id": "844bca59-af92-4c4c-9170-83597802ae9c",
   "metadata": {},
   "outputs": [],
   "source": [
    "class DynamicEmbedder:\n",
    "    def __init__(self, initial_graph, embedding_dim=2):\n",
    "        self.graph = initial_graph\n",
    "        self.embedding_dim = embedding_dim\n",
    "        self.embeddings = None  # Hier werden die Embeddings gespeichert\n",
    "        logger.info(f\"DynamicEmbedder initialized with {len(initial_graph.nodes())} nodes and embedding_dim={embedding_dim}\")\n",
    "\n",
    "    def fit(self):\n",
    "        \"\"\"\n",
    "        Train the embedding model (to be implemented with tropical math)\n",
    "        \"\"\"\n",
    "        # HIER KOMMT IHR TROPICAL EMBEDDING ALGORITHMUS\n",
    "        logger.info(\"Starting graph embedding training...\")\n",
    "        \n",
    "        # Beispiel: Einfache zufällige Embeddings als Platzhalter\n",
    "        import numpy as np\n",
    "        n_nodes = len(self.graph.nodes())\n",
    "        self.embeddings = np.random.rand(n_nodes, self.embedding_dim)\n",
    "        \n",
    "        logger.info(\"Embedding training completed\")\n",
    "        return self\n",
    "\n",
    "    def fit_transform(self):\n",
    "        \"\"\"Convenience method: fit and return embeddings\"\"\"\n",
    "        self.fit()\n",
    "        return self.embeddings\n",
    "\n",
    "    def transform(self, new_graph=None):\n",
    "        \"\"\"\n",
    "        Transform new graph data (for dynamic updates)\n",
    "        \"\"\"\n",
    "        if new_graph is None:\n",
    "            return self.embeddings\n",
    "        # Implementierung für neue Graphen\n",
    "        logger.warning(\"Dynamic transform not fully implemented yet\")\n",
    "        return self.embeddings\n",
    "\n",
    "    def visualize(self, title=\"Tropical Graph Embedding\"):\n",
    "        \"\"\"\n",
    "        Visualize the embeddings (2D or 3D)\n",
    "        \"\"\"\n",
    "        if self.embeddings is None:\n",
    "            self.fit()\n",
    "        \n",
    "        import matplotlib.pyplot as plt\n",
    "        \n",
    "        if self.embedding_dim == 2:\n",
    "            plt.figure(figsize=(10, 8))\n",
    "            plt.scatter(self.embeddings[:, 0], self.embeddings[:, 1], alpha=0.7)\n",
    "            plt.title(title)\n",
    "            plt.xlabel(\"Tropical Dimension 1\")\n",
    "            plt.ylabel(\"Tropical Dimension 2\")\n",
    "            plt.grid(True)\n",
    "            plt.show()\n",
    "            \n",
    "        elif self.embedding_dim == 3:\n",
    "            from mpl_toolkits.mplot3d import Axes3D\n",
    "            fig = plt.figure(figsize=(10, 8))\n",
    "            ax = fig.add_subplot(111, projection='3d')\n",
    "            ax.scatter(self.embeddings[:, 0], self.embeddings[:, 1], self.embeddings[:, 2], alpha=0.7)\n",
    "            ax.set_title(title)\n",
    "            ax.set_xlabel(\"Tropical Dimension 1\")\n",
    "            ax.set_ylabel(\"Tropical Dimension 2\")\n",
    "            ax.set_zlabel(\"Tropical Dimension 3\")\n",
    "            plt.show()\n",
    "            \n",
    "        else:\n",
    "            logger.warning(f\"Visualization not supported for {self.embedding_dim}D embeddings\")\n",
    "            print(f\"Embeddings shape: {self.embeddings.shape}\")\n",
    "\n",
    "    # Weitere Methoden, die Sie benötigen..."
   ]
  },
  {
   "cell_type": "code",
   "execution_count": null,
   "id": "b968077b-ac8d-4937-8ae6-ac8168208c51",
   "metadata": {},
   "outputs": [],
   "source": [
    "# Fügen Sie dies oben in Ihrer Notebook-Zelle hinzu\n",
    "import importlib\n",
    "import tropigem.core\n",
    "importlib.reload(tropigem.core)\n",
    "\n",
    "from tropigem import DynamicEmbedder\n",
    "import networkx as nx\n",
    "\n",
    "G = nx.karate_club_graph()\n",
    "embedder = DynamicEmbedder(G, embedding_dim=2)\n",
    "\n",
    "# Jetzt sollten die neuen Methoden verfügbar sein\n",
    "embeddings = embedder.fit_transform()\n",
    "embedder.visualize()"
   ]
  },
  {
   "cell_type": "code",
   "execution_count": null,
   "id": "206e7697-a7e3-4dde-97f6-3d7fb8e35127",
   "metadata": {},
   "outputs": [],
   "source": []
  }
 ],
 "metadata": {
  "kernelspec": {
   "display_name": "Python (tropigem)",
   "language": "python",
   "name": "tropigem"
  },
  "language_info": {
   "codemirror_mode": {
    "name": "ipython",
    "version": 3
   },
   "file_extension": ".py",
   "mimetype": "text/x-python",
   "name": "python",
   "nbconvert_exporter": "python",
   "pygments_lexer": "ipython3",
   "version": "3.12.10"
  }
 },
 "nbformat": 4,
 "nbformat_minor": 5
}
