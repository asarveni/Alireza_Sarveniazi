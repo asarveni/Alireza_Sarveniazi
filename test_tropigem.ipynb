{
 "cells": [
  {
   "cell_type": "code",
   "execution_count": 1,
   "id": "eb6d92c0-6865-4afa-8f0d-a4b33bc88e68",
   "metadata": {},
   "outputs": [
    {
     "name": "stdout",
     "output_type": "stream",
     "text": [
      "C:\\Program Files\\Python312\\python.exe\n"
     ]
    }
   ],
   "source": [
    "import sys\n",
    "print(sys.executable)  # Sollte auf Ihre venv zeigen (z.B. .../tropigem/venv/Scripts/python.exe)"
   ]
  },
  {
   "cell_type": "code",
   "execution_count": 1,
   "id": "84591c15-c669-4cb1-8d67-d58c4b16f430",
   "metadata": {},
   "outputs": [
    {
     "name": "stdout",
     "output_type": "stream",
     "text": [
      "Import erfolgreich!\n"
     ]
    }
   ],
   "source": [
    "from tropigem.graph_embedding import tropical_distance\n",
    "print(\"Import erfolgreich!\")"
   ]
  },
  {
   "cell_type": "code",
   "execution_count": 3,
   "id": "e7e5055d-0f3f-4c4a-acf3-5490c7257f1e",
   "metadata": {},
   "outputs": [
    {
     "name": "stdout",
     "output_type": "stream",
     "text": [
      "['C:\\\\Program Files\\\\Python312\\\\python312.zip', 'C:\\\\Program Files\\\\Python312\\\\DLLs', 'C:\\\\Program Files\\\\Python312\\\\Lib', 'C:\\\\Program Files\\\\Python312', '', 'C:\\\\Users\\\\Alireza Sarve Niazi\\\\AppData\\\\Roaming\\\\Python\\\\Python312\\\\site-packages', 'C:\\\\Program Files\\\\Python312\\\\Lib\\\\site-packages', 'C:\\\\Program Files\\\\Python312\\\\Lib\\\\site-packages\\\\win32', 'C:\\\\Program Files\\\\Python312\\\\Lib\\\\site-packages\\\\win32\\\\lib', 'C:\\\\Program Files\\\\Python312\\\\Lib\\\\site-packages\\\\Pythonwin']\n"
     ]
    }
   ],
   "source": [
    "import sys\n",
    "print(sys.path)  # Enthält der Pfad Ihr Projektverzeichnis?"
   ]
  },
  {
   "cell_type": "code",
   "execution_count": 2,
   "id": "076e7fe3-4d13-40ac-80b1-943016209d79",
   "metadata": {},
   "outputs": [
    {
     "name": "stdout",
     "output_type": "stream",
     "text": [
      "0\n"
     ]
    }
   ],
   "source": [
    "# Beispielaufruf im Notebook:\n",
    "import numpy as np\n",
    "a = np.array([1, 2, 3])\n",
    "b = np.array([4, 5, 6])\n",
    "print(tropical_distance(a, b))  # Sollte den tropischen Abstand berechnen"
   ]
  },
  {
   "cell_type": "code",
   "execution_count": 3,
   "id": "546c4917-7821-4522-9bf8-bd5160eacdc5",
   "metadata": {},
   "outputs": [],
   "source": [
    "def tropical_distance(a, b):\n",
    "    diff = a - b  # Hier sollte a - b = [-3, -3, -3] sein\n",
    "    return np.max(diff) - np.min(diff)  # max(-3) - min(-3) = -3 - (-3) = 0"
   ]
  },
  {
   "cell_type": "code",
   "execution_count": 4,
   "id": "26e35694-b43d-4639-973d-d34c4522f335",
   "metadata": {},
   "outputs": [],
   "source": [
    "def tropical_distance(a, b):\n",
    "    return np.max(np.abs(a - b))  # Maximaler absoluter Differenzwert"
   ]
  },
  {
   "cell_type": "code",
   "execution_count": 5,
   "id": "7f486c7b-2415-47cd-b61f-7356429298c1",
   "metadata": {},
   "outputs": [
    {
     "name": "stdout",
     "output_type": "stream",
     "text": [
      "3\n"
     ]
    }
   ],
   "source": [
    "a = np.array([1, 2, 3])\n",
    "b = np.array([4, 5, 6])\n",
    "print(tropical_distance(a, b))  # Output: 3 (wie erwartet)"
   ]
  },
  {
   "cell_type": "code",
   "execution_count": 6,
   "id": "bf5720e6-cf9b-40b4-9c6f-9d72a6cb4bf0",
   "metadata": {},
   "outputs": [
    {
     "data": {
      "text/plain": [
       "np.int64(3)"
      ]
     },
     "execution_count": 6,
     "metadata": {},
     "output_type": "execute_result"
    }
   ],
   "source": [
    "tropical_distance(np.array([1, 0, 2]), np.array([3, 1, 5]))  # Sollte 3 ausgeben"
   ]
  },
  {
   "cell_type": "code",
   "execution_count": 7,
   "id": "25914730-0195-421d-93c6-04d5d9438849",
   "metadata": {},
   "outputs": [
    {
     "name": "stdout",
     "output_type": "stream",
     "text": [
      "3\n",
      "3\n"
     ]
    }
   ],
   "source": [
    "# Test 1: Unterschiedliche Differenzen\n",
    "print(tropical_distance(np.array([1, 0, 2]), np.array([3, 1, 5])))  # Erwartet: 3 (wegen |2-5|)\n",
    "\n",
    "# Test 2: Negative Werte\n",
    "print(tropical_distance(np.array([-1, -2]), np.array([1, 1])))      # Erwartet: 3 (wegen |-2-1|)"
   ]
  },
  {
   "cell_type": "code",
   "execution_count": 8,
   "id": "d2a41c49-f56a-4564-92ca-c76dd17edfa4",
   "metadata": {},
   "outputs": [],
   "source": [
    "distance = int(tropical_distance(a, b))  # Explizite Konvertierung"
   ]
  },
  {
   "cell_type": "code",
   "execution_count": 9,
   "id": "04832e6d-318d-4f33-a2ab-5e2f623ceefe",
   "metadata": {},
   "outputs": [],
   "source": [
    "def tropical_distance(a, b):\n",
    "    \"\"\"\n",
    "    Compute the tropical (Tschebysheff) distance between two arrays.\n",
    "    \n",
    "    Args:\n",
    "        a, b (np.ndarray): Input arrays of same shape.\n",
    "    Returns:\n",
    "        np.int64: max(|a_i - b_i|) for all i.\n",
    "    \"\"\"\n",
    "    return np.max(np.abs(a - b))"
   ]
  },
  {
   "cell_type": "code",
   "execution_count": 1,
   "id": "7e8e436a-bb2c-427f-a432-52124b69d4ac",
   "metadata": {},
   "outputs": [
    {
     "name": "stdout",
     "output_type": "stream",
     "text": [
      "Aktuelles Verzeichnis: C:\\Users\\Alireza Sarve Niazi\\tropigem\n",
      "Inhalt: ['.git', '.gitignore', '.ipynb_checkpoints', 'build.log', 'LICENSE.txt', 'pyproject.toml.bak', 'README.md', 'setup.py', 'tests', 'test_import.py', 'test_tropigem.ipynb', 'tropigem', 'venv']\n",
      "✅ Import erfolgreich!\n",
      "Ergebnis: 0 (erwartet: 3)\n"
     ]
    }
   ],
   "source": [
    "import sys\n",
    "import os\n",
    "\n",
    "# Aktuelles Verzeichnis anzeigen\n",
    "print(\"Aktuelles Verzeichnis:\", os.getcwd())\n",
    "print(\"Inhalt:\", os.listdir())\n",
    "\n",
    "# Pfad hinzufügen (falls nötig)\n",
    "sys.path.append(r\"C:\\Users\\Alireza Sarve Niazi\\tropigem\")\n",
    "\n",
    "# Import testen\n",
    "try:\n",
    "    from tropigem.graph_embedding import tropical_distance\n",
    "    print(\"✅ Import erfolgreich!\")\n",
    "    \n",
    "    # Funktion testen\n",
    "    import numpy as np\n",
    "    result = tropical_distance(np.array([1, 2, 3]), np.array([4, 5, 6]))\n",
    "    print(f\"Ergebnis: {result} (erwartet: 3)\")\n",
    "    \n",
    "except Exception as e:\n",
    "    print(\"❌ Fehler:\", e)"
   ]
  },
  {
   "cell_type": "code",
   "execution_count": 2,
   "id": "b0497d46-8e56-4ad7-8947-a4f1f54dda23",
   "metadata": {},
   "outputs": [],
   "source": [
    "import numpy as np\n",
    "\n",
    "def tropical_distance(a, b):\n",
    "    \"\"\"\n",
    "    Compute the tropical (Tschebysheff) distance between two arrays.\n",
    "    \n",
    "    Args:\n",
    "        a, b (np.ndarray): Input arrays of same shape.\n",
    "    Returns:\n",
    "        np.int64: max(|a_i - b_i|) for all i.\n",
    "    \"\"\"\n",
    "    return np.max(np.abs(a - b))  # KORRIGIERTE FORMEL!"
   ]
  },
  {
   "cell_type": "code",
   "execution_count": 7,
   "id": "20969851-95c2-400e-872a-0cccbd4c3e78",
   "metadata": {},
   "outputs": [
    {
     "name": "stdout",
     "output_type": "stream",
     "text": [
      "🔍 WOHER KOMMT DIE DATEI?\n",
      "Modul-Pfad: C:\\Users\\Alireza Sarve Niazi\\tropigem\\tropigem\\graph_embedding.py\n",
      "Erwarteter Pfad: C:\\Users\\Alireza Sarve Niazi\\tropigem\\tropigem\\graph_embedding.py\n",
      "Stimmen die Pfade überein? True\n"
     ]
    }
   ],
   "source": [
    "# In Jupyter ausführen:\n",
    "from tropigem.graph_embedding import tropical_distance\n",
    "import tropigem.graph_embedding\n",
    "\n",
    "print(\"🔍 WOHER KOMMT DIE DATEI?\")\n",
    "print(\"Modul-Pfad:\", tropigem.graph_embedding.__file__)\n",
    "\n",
    "# Vergleichen mit Ihrem Pfad\n",
    "import os\n",
    "expected_path = r\"C:\\Users\\Alireza Sarve Niazi\\tropigem\\tropigem\\graph_embedding.py\"\n",
    "print(\"Erwarteter Pfad:\", expected_path)\n",
    "print(\"Stimmen die Pfade überein?\", tropigem.graph_embedding.__file__ == expected_path)"
   ]
  },
  {
   "cell_type": "code",
   "execution_count": 9,
   "id": "43325539-b3d5-4e35-9aeb-6ec05efaa54c",
   "metadata": {},
   "outputs": [
    {
     "name": "stdout",
     "output_type": "stream",
     "text": [
      "Modul-Pfad: C:\\Users\\Alireza Sarve Niazi\\tropigem\\tropigem\\graph_embedding.py\n",
      "Funktions-Modul: tropigem.graph_embedding\n"
     ]
    }
   ],
   "source": [
    "import tropigem.graph_embedding\n",
    "print(\"Modul-Pfad:\", tropigem.graph_embedding.__file__)\n",
    "print(\"Funktions-Modul:\", tropical_distance.__module__)"
   ]
  },
  {
   "cell_type": "code",
   "execution_count": 10,
   "id": "f6a6f37b-33f5-49ff-9cd3-2170a6390026",
   "metadata": {},
   "outputs": [
    {
     "name": "stdout",
     "output_type": "stream",
     "text": [
      "=== TIEFENDIAGNOSE ===\n",
      "Test 1: a=[1 2 3], b=[4 5 6]\n",
      "  Erwartet: 3, Bekommen: 0\n",
      "  Korrekt: False\n",
      "\n",
      "Test 2: a=[0 0 0], b=[1 2 3]\n",
      "  Erwartet: 3, Bekommen: 2\n",
      "  Korrekt: False\n",
      "\n",
      "Test 3: a=[ 5 10 15], b=[ 5 10 15]\n",
      "  Erwartet: 0, Bekommen: 0\n",
      "  Korrekt: True\n",
      "\n",
      "Test 4: a=[-1 -2 -3], b=[1 2 3]\n",
      "  Erwartet: 6, Bekommen: 4\n",
      "  Korrekt: False\n",
      "\n"
     ]
    }
   ],
   "source": [
    "import numpy as np\n",
    "from tropigem.graph_embedding import tropical_distance\n",
    "\n",
    "print(\"=== TIEFENDIAGNOSE ===\")\n",
    "\n",
    "# Test mit verschiedenen Eingaben\n",
    "test_cases = [\n",
    "    (np.array([1, 2, 3]), np.array([4, 5, 6])),\n",
    "    (np.array([0, 0, 0]), np.array([1, 2, 3])),\n",
    "    (np.array([5, 10, 15]), np.array([5, 10, 15])),  # Gleiche Vektoren\n",
    "    (np.array([-1, -2, -3]), np.array([1, 2, 3])),   # Negative Werte\n",
    "]\n",
    "\n",
    "for i, (a, b) in enumerate(test_cases):\n",
    "    result = tropical_distance(a, b)\n",
    "    expected = np.max(np.abs(a - b))\n",
    "    print(f\"Test {i+1}: a={a}, b={b}\")\n",
    "    print(f\"  Erwartet: {expected}, Bekommen: {result}\")\n",
    "    print(f\"  Korrekt: {result == expected}\")\n",
    "    print()"
   ]
  },
  {
   "cell_type": "code",
   "execution_count": 12,
   "id": "42133642-7da6-4cfd-af46-fd4b935cc943",
   "metadata": {},
   "outputs": [
    {
     "name": "stdout",
     "output_type": "stream",
     "text": [
      "=== ORIGINALE FUNKTION ===\n",
      "Originale Funktion: 2\n",
      "\n",
      "=== DEBUG-FUNKTION ===\n",
      "🔍 DEBUG: a=[0 0 0], b=[1 2 3]\n",
      "🔍 DEBUG: a-b=[-1 -2 -3], abs=[1 2 3], max=3\n",
      "Debug-Funktion: 3\n",
      "\n",
      "=== GEPATCHTE FUNKTION ===\n",
      "🔍 DEBUG: a=[0 0 0], b=[1 2 3]\n",
      "🔍 DEBUG: a-b=[-1 -2 -3], abs=[1 2 3], max=3\n",
      "Finales Ergebnis: 3\n"
     ]
    }
   ],
   "source": [
    "# 1. Funktion patchen mit Debug-Ausgabe\n",
    "import tropigem.graph_embedding\n",
    "import numpy as np\n",
    "\n",
    "def debug_tropical_distance(a, b):\n",
    "    \"\"\"Debug-Version der tropischen Distanz\"\"\"\n",
    "    print(f\"🔍 DEBUG: a={a}, b={b}\")\n",
    "    diff = a - b\n",
    "    abs_diff = np.abs(diff)\n",
    "    result = np.max(abs_diff)\n",
    "    print(f\"🔍 DEBUG: a-b={diff}, abs={abs_diff}, max={result}\")\n",
    "    return result\n",
    "\n",
    "# Speichere die originale Funktion für Vergleich\n",
    "original_function = tropigem.graph_embedding.tropical_distance\n",
    "\n",
    "# Teste zuerst die originale Funktion\n",
    "print(\"=== ORIGINALE FUNKTION ===\")\n",
    "test_a, test_b = np.array([0, 0, 0]), np.array([1, 2, 3])\n",
    "original_result = original_function(test_a, test_b)\n",
    "print(f\"Originale Funktion: {original_result}\")\n",
    "\n",
    "print(\"\\n=== DEBUG-FUNKTION ===\")\n",
    "debug_result = debug_tropical_distance(test_a, test_b)\n",
    "print(f\"Debug-Funktion: {debug_result}\")\n",
    "\n",
    "# Ersetze die Funktion\n",
    "tropigem.graph_embedding.tropical_distance = debug_tropical_distance\n",
    "\n",
    "# Importiere die gepatchte Funktion\n",
    "from tropigem.graph_embedding import tropical_distance\n",
    "\n",
    "print(\"\\n=== GEPATCHTE FUNKTION ===\")\n",
    "final_result = tropical_distance(test_a, test_b)\n",
    "print(f\"Finales Ergebnis: {final_result}\")"
   ]
  },
  {
   "cell_type": "code",
   "execution_count": 13,
   "id": "d3c9abbf-e56b-4a42-9342-0e069bb2a0ef",
   "metadata": {},
   "outputs": [
    {
     "name": "stdout",
     "output_type": "stream",
     "text": [
      "=== KORREKTE ERGEBNISSE ===\n",
      "✅ Test 1: 3 == 3\n",
      "✅ Test 2: 3 == 3\n",
      "✅ Test 3: 0 == 0\n",
      "✅ Test 4: 6 == 6\n"
     ]
    }
   ],
   "source": [
    "# ENDGÜLTIGE LÖSUNG\n",
    "import tropigem.graph_embedding\n",
    "import numpy as np\n",
    "\n",
    "def correct_tropical_distance(a, b):\n",
    "    \"\"\"Korrekte tropische Distanz nach Definition\"\"\"\n",
    "    return np.max(np.abs(a - b))\n",
    "\n",
    "# Ersetze die fehlerhafte Funktion\n",
    "tropigem.graph_embedding.tropical_distance = correct_tropical_distance\n",
    "\n",
    "# Teste alle Fälle\n",
    "from tropigem.graph_embedding import tropical_distance\n",
    "\n",
    "test_cases = [\n",
    "    (np.array([1, 2, 3]), np.array([4, 5, 6])),\n",
    "    (np.array([0, 0, 0]), np.array([1, 2, 3])),\n",
    "    (np.array([5, 10, 15]), np.array([5, 10, 15])),\n",
    "    (np.array([-1, -2, -3]), np.array([1, 2, 3])),\n",
    "]\n",
    "\n",
    "print(\"=== KORREKTE ERGEBNISSE ===\")\n",
    "for i, (a, b) in enumerate(test_cases):\n",
    "    result = tropical_distance(a, b)\n",
    "    expected = np.max(np.abs(a - b))\n",
    "    status = \"✅\" if result == expected else \"❌\"\n",
    "    print(f\"{status} Test {i+1}: {result} == {expected}\")"
   ]
  },
  {
   "cell_type": "code",
   "execution_count": 18,
   "id": "23645975-c4f2-4789-b902-84b489a0ddfa",
   "metadata": {},
   "outputs": [
    {
     "ename": "SystemExit",
     "evalue": "usage: ipykernel_launcher.py [global_opts] cmd1 [cmd1_opts] [cmd2 [cmd2_opts] ...]\n   or: ipykernel_launcher.py --help [cmd1 cmd2 ...]\n   or: ipykernel_launcher.py --help-commands\n   or: ipykernel_launcher.py cmd --help\n\nerror: option -f not recognized",
     "output_type": "error",
     "traceback": [
      "An exception has occurred, use %tb to see the full traceback.\n",
      "\u001b[31mSystemExit\u001b[39m\u001b[31m:\u001b[39m usage: ipykernel_launcher.py [global_opts] cmd1 [cmd1_opts] [cmd2 [cmd2_opts] ...]\n   or: ipykernel_launcher.py --help [cmd1 cmd2 ...]\n   or: ipykernel_launcher.py --help-commands\n   or: ipykernel_launcher.py cmd --help\n\nerror: option -f not recognized\n"
     ]
    }
   ],
   "source": [
    "from setuptools import setup\n",
    "\n",
    "if __name__ == \"__main__\":\n",
    "    setup()"
   ]
  },
  {
   "cell_type": "code",
   "execution_count": null,
   "id": "a2cc5f93-f70d-4d51-a3d5-5709a6f51b71",
   "metadata": {},
   "outputs": [],
   "source": []
  }
 ],
 "metadata": {
  "kernelspec": {
   "display_name": "Python (tropigem)",
   "language": "python",
   "name": "tropigem"
  },
  "language_info": {
   "codemirror_mode": {
    "name": "ipython",
    "version": 3
   },
   "file_extension": ".py",
   "mimetype": "text/x-python",
   "name": "python",
   "nbconvert_exporter": "python",
   "pygments_lexer": "ipython3",
   "version": "3.12.10"
  }
 },
 "nbformat": 4,
 "nbformat_minor": 5
}
