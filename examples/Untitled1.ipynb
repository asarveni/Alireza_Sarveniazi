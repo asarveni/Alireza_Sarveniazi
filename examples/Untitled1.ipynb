{
 "cells": [
  {
   "cell_type": "code",
   "execution_count": 1,
   "id": "307a02dd-252c-427d-8639-49d870a22d29",
   "metadata": {},
   "outputs": [],
   "source": [
    "# In tropigem/core.py muss mindestens enthalten sein:\n",
    "class DynamicEmbedder:\n",
    "    def __init__(self, initial_graph, embedding_dim=2):\n",
    "        self.graph = initial_graph\n",
    "        self.embedding_dim = embedding_dim\n",
    "        self.embeddings = None\n",
    "    \n",
    "    def fit(self):\n",
    "        import numpy as np\n",
    "        n_nodes = len(self.graph.nodes())\n",
    "        self.embeddings = np.random.rand(n_nodes, self.embedding_dim)\n",
    "        return self\n",
    "    \n",
    "    def fit_transform(self):\n",
    "        self.fit()\n",
    "        return self.embeddings\n",
    "    \n",
    "    def visualize(self):\n",
    "        import matplotlib.pyplot as plt\n",
    "        if self.embeddings is None:\n",
    "            self.fit()\n",
    "        plt.scatter(self.embeddings[:, 0], self.embeddings[:, 1])\n",
    "        plt.show()"
   ]
  },
  {
   "cell_type": "code",
   "execution_count": 2,
   "id": "38b7103b-9806-43cb-b860-068506110041",
   "metadata": {},
   "outputs": [
    {
     "name": "stdout",
     "output_type": "stream",
     "text": [
      "Testing TropiGEM...\n",
      "Fitting model...\n"
     ]
    },
    {
     "ename": "AttributeError",
     "evalue": "'DynamicEmbedder' object has no attribute 'fit_transform'",
     "output_type": "error",
     "traceback": [
      "\u001b[31m---------------------------------------------------------------------------\u001b[39m",
      "\u001b[31mAttributeError\u001b[39m                            Traceback (most recent call last)",
      "\u001b[36mCell\u001b[39m\u001b[36m \u001b[39m\u001b[32mIn[2]\u001b[39m\u001b[32m, line 10\u001b[39m\n\u001b[32m      7\u001b[39m embedder = DynamicEmbedder(G, embedding_dim=\u001b[32m2\u001b[39m)\n\u001b[32m      9\u001b[39m \u001b[38;5;28mprint\u001b[39m(\u001b[33m\"\u001b[39m\u001b[33mFitting model...\u001b[39m\u001b[33m\"\u001b[39m)\n\u001b[32m---> \u001b[39m\u001b[32m10\u001b[39m embeddings = \u001b[43membedder\u001b[49m\u001b[43m.\u001b[49m\u001b[43mfit_transform\u001b[49m()\n\u001b[32m     12\u001b[39m \u001b[38;5;28mprint\u001b[39m(\u001b[33m\"\u001b[39m\u001b[33mVisualizing...\u001b[39m\u001b[33m\"\u001b[39m)\n\u001b[32m     13\u001b[39m embedder.visualize()\n",
      "\u001b[31mAttributeError\u001b[39m: 'DynamicEmbedder' object has no attribute 'fit_transform'"
     ]
    }
   ],
   "source": [
    "# run.py Inhalte zum Testen:\n",
    "from tropigem import DynamicEmbedder\n",
    "import networkx as nx\n",
    "\n",
    "print(\"Testing TropiGEM...\")\n",
    "G = nx.karate_club_graph()\n",
    "embedder = DynamicEmbedder(G, embedding_dim=2)\n",
    "\n",
    "print(\"Fitting model...\")\n",
    "embeddings = embedder.fit_transform()\n",
    "\n",
    "print(\"Visualizing...\")\n",
    "embedder.visualize()\n",
    "\n",
    "print(\"Test completed successfully!\")"
   ]
  },
  {
   "cell_type": "code",
   "execution_count": null,
   "id": "6cbc0293-4fe9-44d2-b725-302737be650d",
   "metadata": {},
   "outputs": [],
   "source": []
  }
 ],
 "metadata": {
  "kernelspec": {
   "display_name": "Python (tropigem)",
   "language": "python",
   "name": "tropigem"
  },
  "language_info": {
   "codemirror_mode": {
    "name": "ipython",
    "version": 3
   },
   "file_extension": ".py",
   "mimetype": "text/x-python",
   "name": "python",
   "nbconvert_exporter": "python",
   "pygments_lexer": "ipython3",
   "version": "3.12.10"
  }
 },
 "nbformat": 4,
 "nbformat_minor": 5
}
